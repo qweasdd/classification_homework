{
 "cells": [
  {
   "cell_type": "code",
   "execution_count": 2,
   "metadata": {
    "collapsed": true
   },
   "outputs": [],
   "source": [
    "import numpy as np\n",
    "import scipy as sp\n",
    "import matplotlib.pyplot as plt\n",
    "import seaborn as sns\n",
    "\n",
    "%matplotlib inline"
   ]
  },
  {
   "cell_type": "markdown",
   "metadata": {},
   "source": [
    "# 1. Работа с массивами NumPy"
   ]
  },
  {
   "cell_type": "markdown",
   "metadata": {},
   "source": [
    "**N. Все упражнения ниже нужно делать без использования циклов Python**\n",
    "\n",
    "**1.** Cоздать вектор\n",
    "\n",
    "$$(2, \\frac{2^2}{2}, \\ldots, \\frac{2^{20}}{20})$$\n",
    "\n",
    "Можно использовать функции [np.arange()](http://docs.scipy.org/doc/numpy/reference/generated/numpy.arange.html), [np.ones()](http://docs.scipy.org/doc/numpy/reference/generated/numpy.ones.html)"
   ]
  },
  {
   "cell_type": "code",
   "execution_count": 23,
   "metadata": {},
   "outputs": [
    {
     "data": {
      "text/plain": [
       "array([  2.00000000e+00,   2.00000000e+00,   2.66666667e+00,\n",
       "         4.00000000e+00,   6.40000000e+00,   1.06666667e+01,\n",
       "         1.82857143e+01,   3.20000000e+01,   5.68888889e+01,\n",
       "         1.02400000e+02,   1.86181818e+02,   3.41333333e+02,\n",
       "         6.30153846e+02,   1.17028571e+03,   2.18453333e+03,\n",
       "         4.09600000e+03,   7.71011765e+03,   1.45635556e+04,\n",
       "         2.75941053e+04,   5.24288000e+04])"
      ]
     },
     "execution_count": 23,
     "metadata": {},
     "output_type": "execute_result"
    }
   ],
   "source": [
    "np.apply_along_axis(lambda x : pow(2, x) / x, 0, np.arange(1, 21))"
   ]
  },
  {
   "cell_type": "markdown",
   "metadata": {},
   "source": [
    "**2.** Посчитать:\n",
    "\n",
    "$$\\sum\\limits_{i=0}^{5}{0.1^{3i}0.2^{4i}}$$\n"
   ]
  },
  {
   "cell_type": "code",
   "execution_count": 30,
   "metadata": {},
   "outputs": [
    {
     "data": {
      "text/plain": [
       "1.00000160000256"
      ]
     },
     "execution_count": 30,
     "metadata": {},
     "output_type": "execute_result"
    }
   ],
   "source": [
    "np.sum(np.apply_along_axis(lambda x : pow(0.1, 3*x) * pow(0.2, 4 * x), 0, np.arange(0, 6)), axis = 0)"
   ]
  },
  {
   "cell_type": "markdown",
   "metadata": {},
   "source": [
    "**3.** Создать нулевую матрицe $8 \\times 8$, и заполнить её единицами в шахматном порядке."
   ]
  },
  {
   "cell_type": "code",
   "execution_count": 81,
   "metadata": {},
   "outputs": [
    {
     "data": {
      "text/plain": [
       "array([[0, 1, 0, 1, 0, 1, 0, 1],\n",
       "       [1, 0, 1, 0, 1, 0, 1, 0],\n",
       "       [0, 1, 0, 1, 0, 1, 0, 1],\n",
       "       [1, 0, 1, 0, 1, 0, 1, 0],\n",
       "       [0, 1, 0, 1, 0, 1, 0, 1],\n",
       "       [1, 0, 1, 0, 1, 0, 1, 0],\n",
       "       [0, 1, 0, 1, 0, 1, 0, 1],\n",
       "       [1, 0, 1, 0, 1, 0, 1, 0]], dtype=int32)"
      ]
     },
     "execution_count": 81,
     "metadata": {},
     "output_type": "execute_result"
    }
   ],
   "source": [
    "np.apply_along_axis( lambda x : (x + x / 8).astype('int') % 2, 0, np.arange(0, 64)).reshape((8, 8))"
   ]
  },
  {
   "cell_type": "markdown",
   "metadata": {},
   "source": [
    "**4.** Есть 5 точек в декартовой системе координат (в виде матрицы $X$ размерностью $5 \\times 2$), сконвертируйте эти точки в полярную систему координат."
   ]
  },
  {
   "cell_type": "code",
   "execution_count": 102,
   "metadata": {},
   "outputs": [
    {
     "data": {
      "text/plain": [
       "array([[ 0.95030765,  0.59211316],\n",
       "       [ 0.73268955,  0.78480864],\n",
       "       [ 0.96841725,  0.8754769 ],\n",
       "       [ 0.12585401,  1.15582377],\n",
       "       [ 1.00278852,  0.95586135]])"
      ]
     },
     "execution_count": 102,
     "metadata": {},
     "output_type": "execute_result"
    }
   ],
   "source": [
    "X = np.random.random((5, 2))\n",
    "\n",
    "def foo(x, y):\n",
    "    if (x > 0 and y >= 0):\n",
    "        return np.arctan(y / x)\n",
    "    if (x > 0 and y < 0):\n",
    "        return np.arctan(y / x) + 2 * np.pi\n",
    "    if (x < 0):\n",
    "        return np.arctan(y / x) + np.pi\n",
    "    if (x  == 0 and y > 0):\n",
    "        return np.pi / 2\n",
    "    if (x == 0 and y < 0):\n",
    "        return np.pi * 3 / 2\n",
    "    if (x == 0 and y == 0):\n",
    "        return None\n",
    "\n",
    "\n",
    "\n",
    "np.apply_along_axis(lambda x: np.array([np.sqrt(x[0]**2 + x[1] ** 2), foo(x[0], x[1])]) ,1, X)"
   ]
  },
  {
   "cell_type": "markdown",
   "metadata": {},
   "source": [
    "**5.** Найдите индексы максимального элемента в случайной матрице $10 \\times 10$.\n",
    "\n",
    "Cм. [np.argmax()](http://docs.scipy.org/doc/numpy/reference/generated/numpy.argmax.html)."
   ]
  },
  {
   "cell_type": "code",
   "execution_count": 108,
   "metadata": {},
   "outputs": [
    {
     "name": "stdout",
     "output_type": "stream",
     "text": [
      "3 5\n"
     ]
    }
   ],
   "source": [
    "X = np.random.random((10, 10))\n",
    "\n",
    "res = np.argmax(X)\n",
    "print( int(res / 10), res % 10 )"
   ]
  },
  {
   "cell_type": "markdown",
   "metadata": {},
   "source": [
    "**6.** Есть 10 точек ($X$) и ещё одна ($y$). Найти в $X$ ближайшую к $y$ точку."
   ]
  },
  {
   "cell_type": "code",
   "execution_count": 118,
   "metadata": {},
   "outputs": [
    {
     "data": {
      "text/plain": [
       "2"
      ]
     },
     "execution_count": 118,
     "metadata": {},
     "output_type": "execute_result"
    }
   ],
   "source": [
    "X = np.random.random((10, 2))\n",
    "y = np.random.random((1, 2))\n",
    "\n",
    "np.argmin(np.apply_along_axis(lambda x : np.sqrt( (x[0] - y[0, 0])** 2 + (x[1] - y[0, 1])**2 ), 1, X))"
   ]
  },
  {
   "cell_type": "markdown",
   "metadata": {},
   "source": [
    "**7.** Дана функция:\n",
    "\n",
    "$$\n",
    " \\begin{cases}\n",
    "    x^2 + 2x + 6, & x < 0  \\\\\n",
    "    x + 6, & 0 \\le x \\le 2 \\\\\n",
    "    x^2 + 4x - 4, & x \\ge 2\n",
    " \\end{cases}\n",
    "$$\n",
    "\n",
    "Постройте массив из её значений на  $-3 \\le x \\le 3$."
   ]
  },
  {
   "cell_type": "code",
   "execution_count": 125,
   "metadata": {},
   "outputs": [],
   "source": [
    "def func(x):\n",
    "    if (x < 0):\n",
    "        return x**2 + 2 * x + 6\n",
    "    elif ( x <= 2):\n",
    "        return x + 6\n",
    "    else:\n",
    "        return x**2 + 4 * x - 4\n",
    "\n",
    "f  = np.vectorize(func)"
   ]
  },
  {
   "cell_type": "code",
   "execution_count": 126,
   "metadata": {},
   "outputs": [
    {
     "data": {
      "text/plain": [
       "array([  9.        ,   8.76124885,   8.52984389,   8.30578512,\n",
       "         8.08907254,   7.87970615,   7.67768595,   7.48301194,\n",
       "         7.29568411,   7.11570248,   6.94306703,   6.77777778,\n",
       "         6.61983471,   6.46923783,   6.32598714,   6.19008264,\n",
       "         6.06152433,   5.94031221,   5.82644628,   5.71992654,\n",
       "         5.62075298,   5.52892562,   5.44444444,   5.36730946,\n",
       "         5.29752066,   5.23507805,   5.17998163,   5.1322314 ,\n",
       "         5.09182736,   5.05876951,   5.03305785,   5.01469238,\n",
       "         5.00367309,   5.        ,   5.00367309,   5.01469238,\n",
       "         5.03305785,   5.05876951,   5.09182736,   5.1322314 ,\n",
       "         5.17998163,   5.23507805,   5.29752066,   5.36730946,\n",
       "         5.44444444,   5.52892562,   5.62075298,   5.71992654,\n",
       "         5.82644628,   5.94031221,   6.03030303,   6.09090909,\n",
       "         6.15151515,   6.21212121,   6.27272727,   6.33333333,\n",
       "         6.39393939,   6.45454545,   6.51515152,   6.57575758,\n",
       "         6.63636364,   6.6969697 ,   6.75757576,   6.81818182,\n",
       "         6.87878788,   6.93939394,   7.        ,   7.06060606,\n",
       "         7.12121212,   7.18181818,   7.24242424,   7.3030303 ,\n",
       "         7.36363636,   7.42424242,   7.48484848,   7.54545455,\n",
       "         7.60606061,   7.66666667,   7.72727273,   7.78787879,\n",
       "         7.84848485,   7.90909091,   7.96969697,   8.24334252,\n",
       "         8.73553719,   9.23507805,   9.74196511,  10.25619835,\n",
       "        10.77777778,  11.3067034 ,  11.84297521,  12.3865932 ,\n",
       "        12.93755739,  13.49586777,  14.06152433,  14.63452709,\n",
       "        15.21487603,  15.80257117,  16.39761249,  17.        ])"
      ]
     },
     "execution_count": 126,
     "metadata": {},
     "output_type": "execute_result"
    }
   ],
   "source": [
    "f(np.linspace(-3, 3, 100))"
   ]
  },
  {
   "cell_type": "markdown",
   "metadata": {},
   "source": [
    "**8.** Из каждого элемента матрицы вычесть среднее арифметическое от всех элементов в соответствующей строке (после чего среднее значение каждой строки должно равняться нулю).\n",
    "\n",
    "Cм. [np.mean()](http://docs.scipy.org/doc/numpy/reference/generated/numpy.mean.html)."
   ]
  },
  {
   "cell_type": "code",
   "execution_count": 133,
   "metadata": {},
   "outputs": [
    {
     "data": {
      "text/plain": [
       "array([  3.33066907e-17,  -7.77156117e-17,  -2.22044605e-17,\n",
       "         7.77156117e-17,   5.55111512e-17,  -3.33066907e-17,\n",
       "         4.44089210e-17,   2.22044605e-17,   2.22044605e-17,\n",
       "         2.22044605e-17])"
      ]
     },
     "execution_count": 133,
     "metadata": {},
     "output_type": "execute_result"
    }
   ],
   "source": [
    "X = np.random.random((10, 10))\n",
    "\n",
    "X = X - np.apply_along_axis(np.mean, 0, X).T\n",
    "\n",
    "np.apply_along_axis(np.mean, 0, X).T"
   ]
  },
  {
   "cell_type": "markdown",
   "metadata": {},
   "source": [
    "**9.** Есть массив из 1000 чисел, полученных из генератора случайных чисел, имеющий нормальное распределение. Посчитайте выборочное среднее и выборочную дисперсию. "
   ]
  },
  {
   "cell_type": "code",
   "execution_count": 136,
   "metadata": {},
   "outputs": [
    {
     "name": "stdout",
     "output_type": "stream",
     "text": [
      "srednee 5.0920778433\n",
      "dispersiya 4.01630548533\n"
     ]
    }
   ],
   "source": [
    "X = np.random.normal(loc=5, scale=2., size=1000)\n",
    "\n",
    "print(\"srednee\", np.mean(X))\n",
    "print('dispersiya', np.mean(np.power(X, 2)) -np.mean(X)**2)"
   ]
  },
  {
   "cell_type": "markdown",
   "metadata": {},
   "source": [
    "**10.** Создать матрицу:\n",
    "\n",
    "$$\n",
    "\\begin{pmatrix}\n",
    "0 & 1 & 2 & 3 & 4 \\\\\n",
    "1 & 2 & 3 & 4 & 0 \\\\\n",
    "2 & 3 & 4 & 0 & 1 \\\\\n",
    "3 & 4 & 0 & 1 & 2 \\\\\n",
    "4 & 0 & 1 & 2 & 3\n",
    "\\end{pmatrix}\n",
    "$$"
   ]
  },
  {
   "cell_type": "code",
   "execution_count": 137,
   "metadata": {},
   "outputs": [
    {
     "data": {
      "text/plain": [
       "array([[0, 1, 2, 3, 4],\n",
       "       [1, 2, 3, 4, 0],\n",
       "       [2, 3, 4, 0, 1],\n",
       "       [3, 4, 0, 1, 2],\n",
       "       [4, 0, 1, 2, 3]], dtype=int32)"
      ]
     },
     "execution_count": 137,
     "metadata": {},
     "output_type": "execute_result"
    }
   ],
   "source": [
    "np.apply_along_axis( lambda x : (x + x / 5).astype('int') % 5, 0, np.arange(0, 25)).reshape((5, 5))"
   ]
  },
  {
   "cell_type": "code",
   "execution_count": null,
   "metadata": {
    "collapsed": true
   },
   "outputs": [],
   "source": []
  }
 ],
 "metadata": {
  "kernelspec": {
   "display_name": "Python 3",
   "language": "python",
   "name": "python3"
  },
  "language_info": {
   "codemirror_mode": {
    "name": "ipython",
    "version": 3
   },
   "file_extension": ".py",
   "mimetype": "text/x-python",
   "name": "python",
   "nbconvert_exporter": "python",
   "pygments_lexer": "ipython3",
   "version": "3.6.1"
  }
 },
 "nbformat": 4,
 "nbformat_minor": 2
}
