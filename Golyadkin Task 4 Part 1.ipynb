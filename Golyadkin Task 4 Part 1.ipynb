{
 "cells": [
  {
   "cell_type": "code",
   "execution_count": null,
   "metadata": {},
   "outputs": [],
   "source": [
    "import lxml.html\n",
    "import lxml.etree\n",
    "import requests\n",
    "import pandas as pd\n",
    "import grequests"
   ]
  },
  {
   "cell_type": "code",
   "execution_count": null,
   "metadata": {},
   "outputs": [],
   "source": [
    "columns = ['Регион', 'ТИК', 'УИК', 'Число избирателей, включенных в список избирателей ',\n",
    " 'Число избирательных бюллетеней, полученных участковой избирательной комиссией',\n",
    " 'Число избирательных бюллетеней, выданных избирателям, проголосовавшим досрочно',\n",
    " 'Число избирательных бюллетеней, выданных в помещении для голосования в день голосования',\n",
    " 'Число избирательных бюллетеней, выданных вне помещения для голосования в день голосования',\n",
    " 'Число погашенных избирательных бюллетеней',\n",
    " 'Число избирательных бюллетеней в переносных ящиках для голосования',\n",
    " 'Число бюллетеней в стационарных ящиках для голосования',\n",
    " 'Число недействительных избирательных бюллетеней',\n",
    " 'Число действительных избирательных бюллетеней',\n",
    " 'Число утраченных избирательных бюллетеней',\n",
    " 'Число избирательных бюллетеней, не учтенных при получении ',\n",
    " 'Бабурин Сергей Николаевич',\n",
    " 'Грудинин Павел Николаевич',\n",
    " 'Жириновский Владимир Вольфович',\n",
    " 'Путин Владимир Владимирович',\n",
    " 'Собчак Ксения Анатольевна',\n",
    " 'Сурайкин Максим Александрович',\n",
    " 'Титов Борис Юрьевич',\n",
    " 'Явлинский Григорий Алексеевич']\n",
    "\n"
   ]
  },
  {
   "cell_type": "code",
   "execution_count": null,
   "metadata": {},
   "outputs": [],
   "source": [
    "result = []"
   ]
  },
  {
   "cell_type": "code",
   "execution_count": null,
   "metadata": {},
   "outputs": [],
   "source": [
    "def parse_table(uik_table, result, region_name, tik_name):\n",
    "    for i in range(len(uik_table[0])):\n",
    "            result.append([region_name, tik_name] + [ x[i][0][0].text if k != 0 else x[i][0].text[x[i][0].text.rfind('№') + 1:] for k, x in enumerate(uik_table) if (k != 13)])"
   ]
  },
  {
   "cell_type": "code",
   "execution_count": null,
   "metadata": {},
   "outputs": [],
   "source": [
    "def parse_tik_responses(tik_responses, result, region_name, tik_names):\n",
    "    rs = [ grequests.get(lxml.html.fromstring(x.text).xpath('//a[text()=\"сайт избирательной комиссии субъекта Российской Федерации\"]')[0].attrib['href']) for  x in tik_responses]\n",
    "    uik_responses = grequests.map(rs)\n",
    "    uik_tables = [lxml.html.fromstring(x.text).xpath('//table[@style=\"width:100%;overflow:scroll\"]')[0] for x in uik_responses]\n",
    "    for j in range(len(uik_tables)):\n",
    "        parse_table(uik_tables[j], result, region_name, tik_names[j])"
   ]
  },
  {
   "cell_type": "code",
   "execution_count": null,
   "metadata": {},
   "outputs": [],
   "source": [
    "response = requests.get('http://www.vybory.izbirkom.ru/region/region/izbirkom?action=show&root=1&tvd=100100084849066&vrn=100100084849062&region=0&global=1&sub_region=0&prver=0&pronetvd=null&vibid=100100084849066&type=227')\n",
    "tree = lxml.html.fromstring(response.text)\n",
    "tr = tree.xpath('//table[@style=\"width:100%;overflow:scroll\"]')[0][0]\n",
    "\n",
    "region_names = [x[0][0].text for x in tr]\n",
    "rs = (grequests.get(x[0][0].attrib['href']) for x  in tr)\n",
    "region_responses = grequests.map(rs)\n",
    "\n",
    "tik_trs = [lxml.html.fromstring(x.text).xpath('//table[@style=\"width:100%;overflow:scroll\"]')[0][0] for x in region_responses]\n",
    "\n",
    "for k, tik_tr in enumerate(tik_trs):\n",
    "    tik_names = [x[0][0].text for x in tik_tr]\n",
    "    rs = (grequests.get(x[0][0].attrib['href']) for  x in tik_tr)\n",
    "    tik_responses = grequests.map(rs)\n",
    "    \n",
    "    parse_tik_responses(tik_responses, result, region_names[k], tik_names)\n",
    "    \n",
    "parse_tik_responses([region_responses[-2]], result, region_names[-2], [region_names[-2]])\n",
    "parse_tik_responses([region_responses[-1]], result, region_names[-1], [region_names[-1]])"
   ]
  },
  {
   "cell_type": "code",
   "execution_count": null,
   "metadata": {},
   "outputs": [],
   "source": [
    "data = pd.DataFrame(result, columns= columns)"
   ]
  },
  {
   "cell_type": "code",
   "execution_count": null,
   "metadata": {},
   "outputs": [],
   "source": [
    "data.to_csv('vibory_data.csv', index= None)"
   ]
  }
 ],
 "metadata": {
  "kernelspec": {
   "display_name": "Python 3",
   "language": "python",
   "name": "python3"
  },
  "language_info": {
   "codemirror_mode": {
    "name": "ipython",
    "version": 3
   },
   "file_extension": ".py",
   "mimetype": "text/x-python",
   "name": "python",
   "nbconvert_exporter": "python",
   "pygments_lexer": "ipython3",
   "version": "3.6.5"
  }
 },
 "nbformat": 4,
 "nbformat_minor": 2
}
